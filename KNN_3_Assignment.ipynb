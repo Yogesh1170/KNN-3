{
  "nbformat": 4,
  "nbformat_minor": 0,
  "metadata": {
    "colab": {
      "provenance": []
    },
    "kernelspec": {
      "name": "python3",
      "display_name": "Python 3"
    },
    "language_info": {
      "name": "python"
    }
  },
  "cells": [
    {
      "cell_type": "markdown",
      "source": [
        "Q1. Write a Python code to implement the KNN classifier algorithm on load_iris dataset in\n",
        "sklearn.datasets."
      ],
      "metadata": {
        "id": "lqDZYV7vlGQp"
      }
    },
    {
      "cell_type": "code",
      "source": [
        "# Import necessary libraries\n",
        "from sklearn.datasets import load_iris\n",
        "from sklearn.model_selection import train_test_split\n",
        "from sklearn.neighbors import KNeighborsClassifier\n",
        "from sklearn.metrics import accuracy_score\n",
        "\n",
        "# Load the iris dataset\n",
        "iris = load_iris()\n",
        "X = iris.data  # Features\n",
        "y = iris.target  # Target (labels)\n",
        "\n",
        "# Split the dataset into a training set and a testing set (80% training, 20% testing)\n",
        "X_train, X_test, y_train, y_test = train_test_split(X, y, test_size=0.2, random_state=42)\n",
        "\n",
        "# Create a KNN classifier with a specified number of neighbors (k)\n",
        "knn_classifier = KNeighborsClassifier(n_neighbors=3)  # You can adjust the value of k\n",
        "\n",
        "# Train the KNN classifier on the training data\n",
        "knn_classifier.fit(X_train, y_train)\n",
        "\n",
        "# Make predictions on the testing data\n",
        "y_pred = knn_classifier.predict(X_test)\n",
        "\n",
        "# Calculate the accuracy of the model\n",
        "accuracy = accuracy_score(y_test, y_pred)\n",
        "print(\"Accuracy:\", accuracy)\n"
      ],
      "metadata": {
        "colab": {
          "base_uri": "https://localhost:8080/"
        },
        "id": "d2_U0SGKlJBS",
        "outputId": "7aa99400-8890-48a6-e4b7-7d1f431190b2"
      },
      "execution_count": 1,
      "outputs": [
        {
          "output_type": "stream",
          "name": "stdout",
          "text": [
            "Accuracy: 1.0\n"
          ]
        }
      ]
    },
    {
      "cell_type": "markdown",
      "source": [
        "Q2. Write a Python code to implement the KNN regressor algorithm on load_boston dataset in\n",
        "sklearn.datasets."
      ],
      "metadata": {
        "id": "A4QuCg9YlMOw"
      }
    },
    {
      "cell_type": "code",
      "source": [
        "# Import necessary libraries\n",
        "from sklearn.datasets import load_boston\n",
        "from sklearn.model_selection import train_test_split\n",
        "from sklearn.neighbors import KNeighborsRegressor\n",
        "from sklearn.metrics import mean_squared_error, r2_score\n",
        "import numpy as np\n",
        "\n",
        "# Load the boston dataset\n",
        "boston = load_boston()\n",
        "X = boston.data  # Features\n",
        "y = boston.target  # Target (housing prices)\n",
        "\n",
        "# Split the dataset into a training set and a testing set (80% training, 20% testing)\n",
        "X_train, X_test, y_train, y_test = train_test_split(X, y, test_size=0.2, random_state=42)\n",
        "\n",
        "# Create a KNN regressor with a specified number of neighbors (k)\n",
        "knn_regressor = KNeighborsRegressor(n_neighbors=3)  # You can adjust the value of k\n",
        "\n",
        "# Train the KNN regressor on the training data\n",
        "knn_regressor.fit(X_train, y_train)\n",
        "\n",
        "# Make predictions on the testing data\n",
        "y_pred = knn_regressor.predict(X_test)\n",
        "\n",
        "# Calculate the mean squared error and R-squared (R2) score\n",
        "mse = mean_squared_error(y_test, y_pred)\n",
        "r2 = r2_score(y_test, y_pred)\n",
        "\n",
        "print(\"Mean Squared Error:\", mse)\n",
        "print(\"R-squared (R2) Score:\", r2)\n"
      ],
      "metadata": {
        "id": "h0y7fWw4lVEm"
      },
      "execution_count": null,
      "outputs": []
    },
    {
      "cell_type": "markdown",
      "source": [
        "Q3. Write a Python code snippet to find the optimal value of K for the KNN classifier algorithm using\n",
        "cross-validation on load_iris dataset in sklearn.datasets."
      ],
      "metadata": {
        "id": "A_AGUpHklYIl"
      }
    },
    {
      "cell_type": "code",
      "source": [
        "# Import necessary libraries\n",
        "from sklearn.datasets import load_iris\n",
        "from sklearn.model_selection import train_test_split, cross_val_score\n",
        "from sklearn.neighbors import KNeighborsClassifier\n",
        "\n",
        "# Load the iris dataset\n",
        "iris = load_iris()\n",
        "X = iris.data  # Features\n",
        "y = iris.target  # Target (labels)\n",
        "\n",
        "# Split the dataset into a training set and a testing set (80% training, 20% testing)\n",
        "X_train, X_test, y_train, y_test = train_test_split(X, y, test_size=0.2, random_state=42)\n",
        "\n",
        "# Define a range of k values to search over\n",
        "k_values = range(1, 21)  # You can adjust the range as needed\n",
        "\n",
        "# Dictionary to store the cross-validation results for each k\n",
        "knn_scores = {}\n",
        "\n",
        "# Perform grid search over k values\n",
        "for k in k_values:\n",
        "    knn_classifier = KNeighborsClassifier(n_neighbors=k)\n",
        "    scores = cross_val_score(knn_classifier, X_train, y_train, cv=5, scoring='accuracy')\n",
        "    knn_scores[k] = scores.mean()\n",
        "\n",
        "# Find the optimal k with the highest cross-validation accuracy\n",
        "optimal_k = max(knn_scores, key=knn_scores.get)\n",
        "optimal_accuracy = knn_scores[optimal_k]\n",
        "\n",
        "# Print the optimal k and its corresponding accuracy\n",
        "print(\"Optimal K:\", optimal_k)\n",
        "print(\"Cross-Validation Accuracy with Optimal K:\", optimal_accuracy)\n"
      ],
      "metadata": {
        "colab": {
          "base_uri": "https://localhost:8080/"
        },
        "id": "mQo_RKTmlmGL",
        "outputId": "d8f61fc3-f359-4449-c645-e57cca2a37b6"
      },
      "execution_count": 3,
      "outputs": [
        {
          "output_type": "stream",
          "name": "stdout",
          "text": [
            "Optimal K: 3\n",
            "Cross-Validation Accuracy with Optimal K: 0.9583333333333334\n"
          ]
        }
      ]
    },
    {
      "cell_type": "markdown",
      "source": [
        "Q4. Implement the KNN regressor algorithm with feature scaling on load_boston dataset in\n",
        "sklearn.datasets."
      ],
      "metadata": {
        "id": "YczYvFomlfeE"
      }
    },
    {
      "cell_type": "code",
      "source": [
        "# Import necessary libraries\n",
        "from sklearn.datasets import load_boston\n",
        "from sklearn.model_selection import train_test_split\n",
        "from sklearn.neighbors import KNeighborsRegressor\n",
        "from sklearn.preprocessing import StandardScaler\n",
        "from sklearn.metrics import mean_squared_error, r2_score\n",
        "\n",
        "# Load the boston dataset\n",
        "boston = load_boston()\n",
        "X = boston.data  # Features\n",
        "y = boston.target  # Target (housing prices)\n",
        "\n",
        "# Split the dataset into a training set and a testing set (80% training, 20% testing)\n",
        "X_train, X_test, y_train, y_test = train_test_split(X, y, test_size=0.2, random_state=42)\n",
        "\n",
        "# Feature Scaling\n",
        "scaler = StandardScaler()\n",
        "X_train_scaled = scaler.fit_transform(X_train)\n",
        "X_test_scaled = scaler.transform(X_test)\n",
        "\n",
        "# Create a KNN regressor with a specified number of neighbors (k)\n",
        "knn_regressor = KNeighborsRegressor(n_neighbors=3)  # You can adjust the value of k\n",
        "\n",
        "# Train the KNN regressor on the scaled training data\n",
        "knn_regressor.fit(X_train_scaled, y_train)\n",
        "\n",
        "# Make predictions on the scaled testing data\n",
        "y_pred = knn_regressor.predict(X_test_scaled)\n",
        "\n",
        "# Calculate the mean squared error and R-squared (R2) score\n",
        "mse = mean_squared_error(y_test, y_pred)\n",
        "r2 = r2_score(y_test, y_pred)\n",
        "\n",
        "print(\"Mean Squared Error:\", mse)\n",
        "print(\"R-squared (R2) Score:\", r2)\n"
      ],
      "metadata": {
        "id": "-xBGftNKlw5J"
      },
      "execution_count": null,
      "outputs": []
    },
    {
      "cell_type": "markdown",
      "source": [
        "Q5. Write a Python code snippet to implement the KNN classifier algorithm with weighted voting on\n",
        "load_iris dataset in sklearn.datasets."
      ],
      "metadata": {
        "id": "o_bZfM70l0VI"
      }
    },
    {
      "cell_type": "code",
      "source": [
        "# Import necessary libraries\n",
        "from sklearn.datasets import load_iris\n",
        "from sklearn.model_selection import train_test_split\n",
        "from sklearn.neighbors import KNeighborsClassifier\n",
        "from sklearn.metrics import accuracy_score\n",
        "\n",
        "# Load the iris dataset\n",
        "iris = load_iris()\n",
        "X = iris.data  # Features\n",
        "y = iris.target  # Target (labels)\n",
        "\n",
        "# Split the dataset into a training set and a testing set (80% training, 20% testing)\n",
        "X_train, X_test, y_train, y_test = train_test_split(X, y, test_size=0.2, random_state=42)\n",
        "\n",
        "# Create a KNN classifier with weighted voting\n",
        "knn_classifier = KNeighborsClassifier(n_neighbors=3, weights='distance')  # Use 'distance' for weighted voting\n",
        "\n",
        "# Train the KNN classifier on the training data\n",
        "knn_classifier.fit(X_train, y_train)\n",
        "\n",
        "# Make predictions on the testing data\n",
        "y_pred = knn_classifier.predict(X_test)\n",
        "\n",
        "# Calculate the accuracy of the model\n",
        "accuracy = accuracy_score(y_test, y_pred)\n",
        "print(\"Accuracy:\", accuracy)\n"
      ],
      "metadata": {
        "id": "skO5mX2Ul6Em"
      },
      "execution_count": null,
      "outputs": []
    },
    {
      "cell_type": "markdown",
      "source": [
        "Q6. Implement a function to standardise the features before applying KNN classifier."
      ],
      "metadata": {
        "id": "sK8hw_Mgl9NO"
      }
    },
    {
      "cell_type": "code",
      "source": [
        "from sklearn.preprocessing import StandardScaler\n",
        "\n",
        "def standardize_features(X_train, X_test):\n",
        "    \"\"\"\n",
        "    Standardize the features in the training and testing sets.\n",
        "\n",
        "    Parameters:\n",
        "    - X_train: Training set features\n",
        "    - X_test: Testing set features\n",
        "\n",
        "    Returns:\n",
        "    - X_train_std: Standardized training set features\n",
        "    - X_test_std: Standardized testing set features\n",
        "    \"\"\"\n",
        "    # Create a StandardScaler instance\n",
        "    scaler = StandardScaler()\n",
        "\n",
        "    # Fit the scaler on the training data and transform the training data\n",
        "    X_train_std = scaler.fit_transform(X_train)\n",
        "\n",
        "    # Transform the testing data using the same scaler\n",
        "    X_test_std = scaler.transform(X_test)\n",
        "\n",
        "    return X_train_std, X_test_std\n",
        "\n",
        "# Example usage:\n",
        "# X_train, X_test, y_train, y_test = train_test_split(X, y, test_size=0.2, random_state=42)\n",
        "# X_train_std, X_test_std = standardize_features(X_train, X_test)\n",
        "\n",
        "# Now you can use X_train_std and X_test_std in your KNN classifier\n"
      ],
      "metadata": {
        "id": "xO97Sj9omA9t"
      },
      "execution_count": null,
      "outputs": []
    },
    {
      "cell_type": "markdown",
      "source": [
        "Q7. Write a Python function to calculate the euclidean distance between two points."
      ],
      "metadata": {
        "id": "ZBy4ZxChmFJU"
      }
    },
    {
      "cell_type": "code",
      "source": [
        "import numpy as np\n",
        "\n",
        "def euclidean_distance(point1, point2):\n",
        "    \"\"\"\n",
        "    Calculate the Euclidean distance between two points.\n",
        "\n",
        "    Parameters:\n",
        "    - point1: A list or NumPy array representing the coordinates of the first point.\n",
        "    - point2: A list or NumPy array representing the coordinates of the second point.\n",
        "\n",
        "    Returns:\n",
        "    - The Euclidean distance between the two points.\n",
        "    \"\"\"\n",
        "    # Convert the points to NumPy arrays to ensure compatibility\n",
        "    point1 = np.array(point1)\n",
        "    point2 = np.array(point2)\n",
        "\n",
        "    # Calculate the Euclidean distance\n",
        "    distance = np.sqrt(np.sum((point1 - point2) ** 2))\n",
        "\n",
        "    return distance\n",
        "\n",
        "# Example usage:\n",
        "# point1 = [1, 2, 3]\n",
        "# point2 = [4, 5, 6]\n",
        "# distance = euclidean_distance(point1, point2)\n",
        "# print(\"Euclidean Distance:\", distance)\n"
      ],
      "metadata": {
        "id": "nHBwBSpdmIMi"
      },
      "execution_count": null,
      "outputs": []
    },
    {
      "cell_type": "markdown",
      "source": [
        "Q8. Write a Python function to calculate the manhattan distance between two points."
      ],
      "metadata": {
        "id": "CFw9wRNXmLvC"
      }
    },
    {
      "cell_type": "code",
      "source": [
        "import numpy as np\n",
        "\n",
        "def euclidean_distance(point1, point2):\n",
        "    \"\"\"\n",
        "    Calculate the Euclidean distance between two points.\n",
        "\n",
        "    Parameters:\n",
        "    - point1: A list or NumPy array representing the coordinates of the first point.\n",
        "    - point2: A list or NumPy array representing the coordinates of the second point.\n",
        "\n",
        "    Returns:\n",
        "    - The Euclidean distance between the two points.\n",
        "    \"\"\"\n",
        "    # Convert the points to NumPy arrays to ensure compatibility\n",
        "    point1 = np.array(point1)\n",
        "    point2 = np.array(point2)\n",
        "\n",
        "    # Calculate the Euclidean distance\n",
        "    distance = np.sqrt(np.sum((point1 - point2) ** 2))\n",
        "\n",
        "    return distance\n",
        "\n",
        "# Example usage:\n",
        "# point1 = [1, 2, 3]\n",
        "# point2 = [4, 5, 6]\n",
        "# distance = euclidean_distance(point1, point2)\n",
        "# print(\"Euclidean Distance:\", distance)\n"
      ],
      "metadata": {
        "id": "8KiMTYm4mOyE"
      },
      "execution_count": null,
      "outputs": []
    }
  ]
}